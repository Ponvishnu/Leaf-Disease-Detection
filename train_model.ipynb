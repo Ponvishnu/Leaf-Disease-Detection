import cv2
import os
import numpy as np
from sklearn.model_selection import train_test_split

def load_data(data_dir, image_size=128):
    X, y, labels = [], [], []
    label_map = {}

    for idx, label in enumerate(os.listdir(data_dir)):
        label_map[idx] = label
        labels.append(label)
        for file in os.listdir(os.path.join(data_dir, label)):
            path = os.path.join(data_dir, label, file)
            img = cv2.imread(path)
            img = cv2.resize(img, (image_size, image_size))
            X.append(img)
            y.append(idx)

    return np.array(X) / 255.0, np.array(y), label_map
